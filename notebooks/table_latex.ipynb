{
 "cells": [
  {
   "cell_type": "code",
   "execution_count": 2,
   "id": "553d9c46",
   "metadata": {},
   "outputs": [],
   "source": [
    "import pandas as pd"
   ]
  },
  {
   "cell_type": "code",
   "execution_count": 33,
   "id": "6d0d775f",
   "metadata": {},
   "outputs": [
    {
     "name": "stdout",
     "output_type": "stream",
     "text": [
      "\\begin{table}\n",
      "\\caption{Metrics: TPD for Abrupt Drift (99% partially labeled, 100k instances)}\n",
      "\\label{tab:results}\n",
      "\\begin{tabular}{lcccccccc}\n",
      "\\toprule\n",
      "drift_detector & DDM & EDDM & ADWIN & ECDD & STEPD & SeqDrift2 & SEED & MultivariateDetector \\\\\n",
      "generator &  &  &  &  &  &  &  &  \\\\\n",
      "\\midrule\n",
      "\\textbf{AGRAW1} & 10347.75 (2071.94) & 2053.41 (1293.57) & 2108.63 (283.42) & 26.59 (53.87) & 561.86 (313.85) & 1172.22 (482.52) & 87.94 (86.29) & 3023.27 (2900.08) \\\\\n",
      "\\textbf{AGRAW2} & 6764.09 (2309.07) & 2249.06 (1327.53) & 2182.22 (457.08) & 14.98 (11.67) & 1138.95 (998.30) & 2671.16 (825.35) & 357.19 (154.32) & 3155.68 (2984.79) \\\\\n",
      "\\textbf{LED} & 4286.50 (3000.50) & 0.00 (0.00) & 1401.60 (348.80) & 49.08 (44.30) & 129.32 (165.71) & 2.29 (184.97) & 2.54 (1.47) & 0.00 (0.00) \\\\\n",
      "\\textbf{MIXED} & 9979.50 (28.12) & 2169.87 (2746.19) & 1784.73 (306.63) & 12.92 (16.12) & 146.28 (175.69) & 3283.33 (553.85) & 312.64 (237.49) & 5524.50 (4328.69) \\\\\n",
      "\\textbf{RANDOM_RBF} & 10035.88 (17.69) & 4707.44 (1100.43) & 2328.47 (239.07) & 48.48 (25.27) & 305.31 (133.32) & 2.99 (1.93) & 1.42 (0.85) & 0.00 (0.00) \\\\\n",
      "\\textbf{SINE} & 7997.50 (3343.81) & 1430.95 (839.44) & 1788.37 (238.91) & 12.88 (11.02) & 932.90 (411.55) & 3609.09 (925.39) & 124.54 (102.45) & 15323.50 (2831.00) \\\\\n",
      "\\textbf{WAVEFORM} & 0.00 (21.00) & 0.00 (115.72) & 0.00 (0.00) & 10.00 (13.39) & 266.93 (421.76) & 0.00 (0.00) & 1793.29 (1533.13) & 0.00 (0.00) \\\\\n",
      "\\bottomrule\n",
      "\\end{tabular}\n",
      "\\end{table}\n",
      "\n"
     ]
    }
   ],
   "source": [
    "# Carregue o CSV\n",
    "df = pd.read_csv(\"../results/delay/csv_aggregation_percentile/Gradual_delay true detection (average)_100000.csv\")\n",
    "\n",
    "# Crie a coluna de string formatada: \"avg (+std)\"\n",
    "df[\"value_str\"] = df.apply(lambda row: f'{row[\"avg\"]:.2f} ({row[\"std\"]:.2f})', axis=1)\n",
    "\n",
    "# Gere a tabela dinâmica: linhas = generator, colunas = drift_detector, valores = value_str\n",
    "pivot_df = df.pivot(index=\"generator\", columns=\"drift_detector\", values=\"value_str\")\n",
    "# print(pivot_df)\n",
    "\n",
    "# Ordene os detectores para refletir a ordem do LaTeX original\n",
    "ordered_detectors = [\n",
    "    \"DDM\", \"EDDM\", \"ADWIN\", \"ECDD\", \"STEPD\",\n",
    "    \"SeqDrift2\", \"SEED\", \"MultivariateDetector\"  \n",
    "]\n",
    "\n",
    "existing_detectors = [col for col in ordered_detectors if col in pivot_df.columns]\n",
    "pivot_df = pivot_df[existing_detectors]\n",
    "\n",
    "# Gere o LaTeX\n",
    "latex = pivot_df.to_latex(\n",
    "    index=True,\n",
    "    na_rep=\"--\",\n",
    "    caption=\"Metrics: TPD for Abrupt Drift (99% partially labeled, 100k instances)\",\n",
    "    label=\"tab:results\",\n",
    "    column_format=\"l\" + \"c\" * len(existing_detectors),\n",
    "    escape=False,\n",
    "    multicolumn=True,\n",
    "    multicolumn_format=\"c\",\n",
    "    bold_rows=True\n",
    ")\n",
    "\n",
    "# # Salve em um arquivo ou imprima\n",
    "# with open(\"tabela_resultados.tex\", \"w\") as f:\n",
    "#     f.write(latex)\n",
    "\n",
    "print(latex)"
   ]
  },
  {
   "cell_type": "code",
   "execution_count": 34,
   "id": "c6fea6ef",
   "metadata": {},
   "outputs": [
    {
     "name": "stdout",
     "output_type": "stream",
     "text": [
      "\\begin{table}\n",
      "\\caption{Metrics: TPD for Abrupt Drift (99% partially labeled, 100k instances)}\n",
      "\\label{tab:results}\n",
      "\\begin{tabular}{lcccccccc}\n",
      "\\toprule\n",
      "drift_detector & HDDM_A_Test & HDDM_W_Test & RDDM_30 & RDDM & HypothesisTestDetectorKs & HypothesisTestDetectorWrs & HypothesisTestDetectorTt & Studd \\\\\n",
      "generator &  &  &  &  &  &  &  &  \\\\\n",
      "\\midrule\n",
      "\\textbf{AGRAW1} & 7535.60 (1734.66) & 1237.42 (562.16) & 8288.60 (2097.33) & 6832.50 (2086.37) & 4.47 (5.50) & 0.11 (0.05) & 6.68 (7.79) & 0.00 (0.00) \\\\\n",
      "\\textbf{AGRAW2} & 9407.00 (462.56) & 3425.22 (5333.82) & 8132.70 (34.05) & 8039.20 (1338.90) & 80.58 (16.06) & 0.04 (0.02) & 82.06 (16.60) & 0.00 (0.00) \\\\\n",
      "\\textbf{LED} & 2401.00 (1632.75) & 331.96 (459.03) & 4231.25 (509.25) & 3769.00 (153.50) & 2.61 (3.15) & 0.04 (0.03) & 3.94 (2.37) & 0.00 (0.00) \\\\\n",
      "\\textbf{MIXED} & 9184.00 (1861.92) & 9909.75 (1516.05) & 6655.41 (4492.67) & 4675.28 (1268.95) & 82.30 (96.31) & 0.04 (0.02) & 105.03 (162.26) & 0.00 (0.00) \\\\\n",
      "\\textbf{RANDOM_RBF} & 8510.12 (1599.31) & 9920.00 (31.19) & 10040.00 (2008.26) & 7974.60 (1998.16) & 27.09 (24.60) & 0.05 (0.05) & 46.45 (45.32) & 10655.50 (1856.50) \\\\\n",
      "\\textbf{SINE} & 9422.25 (1856.95) & 9943.88 (39.56) & 6667.08 (1326.12) & 5661.85 (2059.94) & 235.95 (87.50) & 0.04 (0.02) & 252.66 (79.44) & 0.00 (0.00) \\\\\n",
      "\\textbf{WAVEFORM} & 0.00 (1890.75) & 1634.75 (2519.58) & 2030.04 (2713.02) & 2518.82 (2456.07) & 5.66 (8.69) & 0.03 (0.03) & 3.96 (7.54) & 0.00 (0.00) \\\\\n",
      "\\bottomrule\n",
      "\\end{tabular}\n",
      "\\end{table}\n",
      "\n"
     ]
    }
   ],
   "source": [
    "# Carregue o CSV\n",
    "df = pd.read_csv(\"../results/delay/csv_aggregation_percentile/Gradual_delay true detection (average)_100000.csv\")\n",
    "\n",
    "# Crie a coluna de string formatada: \"avg (+std)\"\n",
    "df[\"value_str\"] = df.apply(lambda row: f'{row[\"avg\"]:.2f} ({row[\"std\"]:.2f})', axis=1)\n",
    "\n",
    "# Gere a tabela dinâmica: linhas = generator, colunas = drift_detector, valores = value_str\n",
    "pivot_df = df.pivot(index=\"generator\", columns=\"drift_detector\", values=\"value_str\")\n",
    "# print(pivot_df)\n",
    "\n",
    "ordered_detectors = [\n",
    "    \"HDDM_A_Test\", \"HDDM_W_Test\", \"RDDM_30\", \"RDDM\", \"HypothesisTestDetectorKs\",\n",
    "    \"HypothesisTestDetectorWrs\", \"HypothesisTestDetectorTt\", \"Studd\"  \n",
    "]\n",
    "\n",
    "existing_detectors = [col for col in ordered_detectors if col in pivot_df.columns]\n",
    "pivot_df = pivot_df[existing_detectors]\n",
    "\n",
    "# Gere o LaTeX\n",
    "latex = pivot_df.to_latex(\n",
    "    index=True,\n",
    "    na_rep=\"--\",\n",
    "    caption=\"Metrics: TPD for Abrupt Drift (99% partially labeled, 100k instances)\",\n",
    "    label=\"tab:results\",\n",
    "    column_format=\"l\" + \"c\" * len(existing_detectors),\n",
    "    escape=False,\n",
    "    multicolumn=True,\n",
    "    multicolumn_format=\"c\",\n",
    "    bold_rows=True\n",
    ")\n",
    "\n",
    "# # Salve em um arquivo ou imprima\n",
    "# with open(\"tabela_resultados.tex\", \"w\") as f:\n",
    "#     f.write(latex)\n",
    "\n",
    "print(latex)"
   ]
  }
 ],
 "metadata": {
  "kernelspec": {
   "display_name": "ipython",
   "language": "python",
   "name": "python3"
  },
  "language_info": {
   "codemirror_mode": {
    "name": "ipython",
    "version": 3
   },
   "file_extension": ".py",
   "mimetype": "text/x-python",
   "name": "python",
   "nbconvert_exporter": "python",
   "pygments_lexer": "ipython3",
   "version": "3.9.16"
  }
 },
 "nbformat": 4,
 "nbformat_minor": 5
}
